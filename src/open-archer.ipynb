{
 "cells": [
  {
   "cell_type": "code",
   "execution_count": 15,
   "metadata": {},
   "outputs": [],
   "source": [
    "import cv2"
   ]
  },
  {
   "cell_type": "markdown",
   "metadata": {},
   "source": [
    "### Load video"
   ]
  },
  {
   "cell_type": "code",
   "execution_count": 19,
   "metadata": {},
   "outputs": [],
   "source": [
    "video_capture = cv2.VideoCapture('./media/sources/stranger_things_s1_trailer_rotten_tomatoes_tv.mp4')"
   ]
  },
  {
   "cell_type": "markdown",
   "metadata": {},
   "source": [
    "### Get frames"
   ]
  },
  {
   "cell_type": "code",
   "execution_count": 20,
   "metadata": {},
   "outputs": [],
   "source": [
    "def get_frame(sec, count):\n",
    "    video_capture.set(cv2.CAP_PROP_POS_MSEC, sec*1000)\n",
    "    has_frames, image = video_capture.read()\n",
    "    \n",
    "    if has_frames:\n",
    "        filename = './media/frames/image_{0}.jpg'.format(\n",
    "            str(count)\n",
    "        )\n",
    "        cv2.imwrite(filename, image)\n",
    "\n",
    "    return has_frames\n",
    "    "
   ]
  },
  {
   "cell_type": "markdown",
   "metadata": {},
   "source": [
    "### Capture frames"
   ]
  },
  {
   "cell_type": "code",
   "execution_count": 18,
   "metadata": {},
   "outputs": [],
   "source": [
    "sec = 0\n",
    "frame_rate = 1/60\n",
    "count = 1\n",
    "\n",
    "has_frames = get_frame(sec, count)\n",
    "\n",
    "while has_frames:\n",
    "    count += 1\n",
    "    sec = round(sec + frame_rate, 2)\n",
    "    has_frames = get_frame(sec, count)\n",
    "    \n",
    "    "
   ]
  },
  {
   "cell_type": "code",
   "execution_count": null,
   "metadata": {},
   "outputs": [],
   "source": []
  }
 ],
 "metadata": {
  "kernelspec": {
   "display_name": "Python 3",
   "language": "python",
   "name": "python3"
  },
  "language_info": {
   "codemirror_mode": {
    "name": "ipython",
    "version": 3
   },
   "file_extension": ".py",
   "mimetype": "text/x-python",
   "name": "python",
   "nbconvert_exporter": "python",
   "pygments_lexer": "ipython3",
   "version": "3.8.5"
  }
 },
 "nbformat": 4,
 "nbformat_minor": 2
}
